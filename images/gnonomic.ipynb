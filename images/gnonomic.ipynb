{
 "cells": [
  {
   "cell_type": "code",
   "execution_count": 1,
   "metadata": {},
   "outputs": [
    {
     "name": "stdout",
     "output_type": "stream",
     "text": [
      "Populating the interactive namespace from numpy and matplotlib\n"
     ]
    }
   ],
   "source": [
    "%pylab inline\n",
    "\n",
    "from IPython.core.display import Image\n",
    "from IPython.display import HTML\n",
    "\n",
    "from mpl_toolkits.basemap import Basemap\n",
    "import numpy as np\n",
    "import matplotlib.pyplot as plt\n",
    "\n",
    "## little helper to pixel-perfectly render a figure as an inline image\n",
    "def showFigure(fg, filename, dpi=100, facecolor='0.95') :\n",
    "    plt.savefig(filename, dpi=dpi, facecolor=facecolor)\n",
    "    plt.close(fg) \n",
    "    return Image(filename=filename)\n"
   ]
  },
  {
   "cell_type": "code",
   "execution_count": 4,
   "metadata": {},
   "outputs": [
    {
     "data": {
      "text/html": [
       "<iframe src=\"https://matplotlib.org/basemap/api/basemap_api.html\" width=960 height=350></iframe>"
      ],
      "text/plain": [
       "<IPython.core.display.HTML object>"
      ]
     },
     "execution_count": 4,
     "metadata": {},
     "output_type": "execute_result"
    }
   ],
   "source": [
    "HTML('<iframe src=\"https://matplotlib.org/basemap/api/basemap_api.html\" width=960 height=350></iframe>')"
   ]
  },
  {
   "cell_type": "markdown",
   "metadata": {},
   "source": [
    "https://matplotlib.org/basemap/api/basemap_api.html  \n",
    "resolution: Can be c (crude), l (low), i (intermediate), h (high), f (full) or None  \n"
   ]
  },
  {
   "cell_type": "code",
   "execution_count": null,
   "metadata": {},
   "outputs": [
    {
     "name": "stdout",
     "output_type": "stream",
     "text": [
      "/media/noiv/OS/Octets/Projects/weather-simulation/images/data/globe.data.top.512.png\n"
     ]
    }
   ],
   "source": [
    "path  = '/media/noiv/OS/Octets/Projects/weather-simulation/images/data/'\n",
    "names = ['top', 'front', 'left', 'right', 'back', 'bottom']\n",
    "lats  = [90, 0,   0,  0,   0, -90]\n",
    "lons  = [ 0, 0, -90, 90, 180,   0]\n",
    "reso  = 512\n",
    "\n",
    "colCont  = '#333333' # '0.5'\n",
    "colRiver = '#555555' # '0.5'\n",
    "colLake  = '#555555' # '0.6'\n",
    "colWater = '#808080' # '0.7'\n",
    "\n",
    "rsphere = 6370997.; width = 2.0 * rsphere; height = width\n",
    "\n",
    "for (lat, lon, name) in zip(lats, lons, names) :\n",
    "    \n",
    "    fg, ax = plt.subplots(figsize=(reso/100.0, reso/100.0), dpi=100, facecolor=(0, 0, 0, 0))\n",
    "\n",
    "    ax.axes.get_yaxis().set_visible(False)\n",
    "    ax.axes.get_xaxis().set_visible(False)\n",
    "\n",
    "    ax.set_frame_on(False)\n",
    "    ax.set_position((0, 0, 1, 1))\n",
    "\n",
    "    m = Basemap(width=width, height=height, rsphere=rsphere, projection='gnom', lat_0=lat, lon_0=lon, resolution='h', fix_aspect=False, suppress_ticks=True)\n",
    "    \n",
    "    ## m.fillcontinents(color=colCont, lake_color=colLake)\n",
    "    ## m.drawmapboundary(fill_color=colWater, linewidth=0)\n",
    "    m.drawrivers(linewidth=1.0, color=colRiver) \n",
    "\n",
    "    filename = path + 'globe.data.' + name + '.' + str(reso) + '.png'\n",
    "    plt.savefig(filename, dpi=100, quality=100)\n",
    "    \n",
    "    print filename\n",
    "\n",
    "print 'Done'"
   ]
  },
  {
   "cell_type": "code",
   "execution_count": null,
   "metadata": {
    "collapsed": true
   },
   "outputs": [],
   "source": []
  },
  {
   "cell_type": "code",
   "execution_count": null,
   "metadata": {
    "collapsed": true
   },
   "outputs": [],
   "source": []
  },
  {
   "cell_type": "code",
   "execution_count": null,
   "metadata": {
    "collapsed": true
   },
   "outputs": [],
   "source": []
  }
 ],
 "metadata": {
  "kernelspec": {
   "display_name": "Python 2",
   "language": "python",
   "name": "python2"
  },
  "language_info": {
   "codemirror_mode": {
    "name": "ipython",
    "version": 2
   },
   "file_extension": ".py",
   "mimetype": "text/x-python",
   "name": "python",
   "nbconvert_exporter": "python",
   "pygments_lexer": "ipython2",
   "version": "2.7.12"
  }
 },
 "nbformat": 4,
 "nbformat_minor": 2
}
